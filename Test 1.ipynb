{
 "cells": [
  {
   "cell_type": "markdown",
   "id": "12edeee4",
   "metadata": {},
   "source": [
    "## Question 1"
   ]
  },
  {
   "cell_type": "code",
   "execution_count": 3,
   "id": "255dff1c",
   "metadata": {},
   "outputs": [
    {
     "name": "stdout",
     "output_type": "stream",
     "text": [
      "Even numbers from  ['1', '2', '3', '4'] are ['2', '4']\n"
     ]
    }
   ],
   "source": [
    "import csv\n",
    "number=[]\n",
    "with open(\"Dict_sheet12.csv\",\"r\") as file:\n",
    "    reader=csv.reader(file)\n",
    "    for row in reader:\n",
    "        number.extend(row)\n",
    "even=[num for num in number if int(num)%2==0]\n",
    "print(\"Even numbers from \",number,\"are\",even)"
   ]
  },
  {
   "cell_type": "markdown",
   "id": "48a4ce54",
   "metadata": {},
   "source": [
    "## Question 2"
   ]
  },
  {
   "cell_type": "code",
   "execution_count": 5,
   "id": "4d8cbb0d",
   "metadata": {},
   "outputs": [
    {
     "name": "stdout",
     "output_type": "stream",
     "text": [
      "Annual salary is 60000\n"
     ]
    }
   ],
   "source": [
    "class Employee:\n",
    "    def __init__(self, name, position, salary):\n",
    "        self.name = name\n",
    "        self.position = position\n",
    "        self.salary = salary\n",
    "\n",
    "    def calculate_annual_salary(self):\n",
    "        return self.salary * 12\n",
    "\n",
    "employee = Employee(\"Sameer\", \"Manager\", 5000)\n",
    "\n",
    "annual_salary = employee.calculate_annual_salary()\n",
    "\n",
    "print(\"Annual salary is\",annual_salary)\n"
   ]
  },
  {
   "cell_type": "markdown",
   "id": "e889ba04",
   "metadata": {},
   "source": [
    "## Question 4"
   ]
  },
  {
   "cell_type": "code",
   "execution_count": 7,
   "id": "e0b2a0d3",
   "metadata": {},
   "outputs": [
    {
     "name": "stdout",
     "output_type": "stream",
     "text": [
      "Square numbers are [1, 4, 9, 16, 25]\n"
     ]
    }
   ],
   "source": [
    "n=[1,2,3,4,5]\n",
    "square=list(map(lambda x:x**2,n))\n",
    "print(\"Square numbers are\",square)"
   ]
  },
  {
   "cell_type": "markdown",
   "id": "aa06a69b",
   "metadata": {},
   "source": [
    "## Question 5"
   ]
  },
  {
   "cell_type": "code",
   "execution_count": 9,
   "id": "faae05d1",
   "metadata": {},
   "outputs": [
    {
     "name": "stdout",
     "output_type": "stream",
     "text": [
      "keys:['sagar', 'suresh', 'sameer']\n",
      "values:[23, 10, 54]\n",
      "Resultant dictionary is {'sagar': 23, 'suresh': 10, 'sameer': 54}\n"
     ]
    }
   ],
   "source": [
    "list1=[\"sagar\",\"suresh\",\"sameer\"]\n",
    "list2=[23,10,54]\n",
    "print(\"keys:\"+str(list1))\n",
    "print(\"values:\"+str(list2))\n",
    "dict1=dict(zip(list1,list2))\n",
    "print(\"Resultant dictionary is \"+str(dict1))"
   ]
  },
  {
   "cell_type": "markdown",
   "id": "ae1be01d",
   "metadata": {},
   "source": [
    "## Question 6"
   ]
  },
  {
   "cell_type": "code",
   "execution_count": 10,
   "id": "bb1710a2",
   "metadata": {},
   "outputs": [
    {
     "name": "stdout",
     "output_type": "stream",
     "text": [
      "Enter first number:4\n",
      "Enter second number:8\n",
      "Enter third number:64\n",
      "The larget of three numbers is 64\n"
     ]
    }
   ],
   "source": [
    "num1=int(input(\"Enter first number:\"))\n",
    "num2=int(input(\"Enter second number:\"))\n",
    "num3=int(input(\"Enter third number:\"))\n",
    "if(num1>=num2) and (num3>=num1):\n",
    "    largest=num1\n",
    "elif(num2>=num1) and (num2>=num3):\n",
    "    largest=num2\n",
    "else:\n",
    "    largest=num3\n",
    "print(\"The larget of three numbers is\",largest)"
   ]
  },
  {
   "cell_type": "markdown",
   "id": "e0529394",
   "metadata": {},
   "source": [
    "## Quetion 7"
   ]
  },
  {
   "cell_type": "code",
   "execution_count": 13,
   "id": "db84981d",
   "metadata": {},
   "outputs": [
    {
     "name": "stdout",
     "output_type": "stream",
     "text": [
      "Enter the time in years:2\n",
      "Enter the rate of interest per annum4\n",
      "Simple interest is 600.0\n"
     ]
    }
   ],
   "source": [
    "P=7500\n",
    "T=float(input(\"Enter the time in years:\"))\n",
    "R=float(input(\"Enter the rate of interest per annum\"))\n",
    "SI=(P*T*R)/100\n",
    "print(\"Simple interest is\",SI)"
   ]
  },
  {
   "cell_type": "code",
   "execution_count": null,
   "id": "b23729bb",
   "metadata": {},
   "outputs": [],
   "source": []
  }
 ],
 "metadata": {
  "kernelspec": {
   "display_name": "Python 3 (ipykernel)",
   "language": "python",
   "name": "python3"
  },
  "language_info": {
   "codemirror_mode": {
    "name": "ipython",
    "version": 3
   },
   "file_extension": ".py",
   "mimetype": "text/x-python",
   "name": "python",
   "nbconvert_exporter": "python",
   "pygments_lexer": "ipython3",
   "version": "3.11.5"
  }
 },
 "nbformat": 4,
 "nbformat_minor": 5
}

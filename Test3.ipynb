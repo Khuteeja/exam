{
 "cells": [
  {
   "cell_type": "code",
   "execution_count": 5,
   "id": "4f958f9c",
   "metadata": {},
   "outputs": [
    {
     "name": "stdout",
     "output_type": "stream",
     "text": [
      "Prediction for data point 1: normal\n",
      "Prediction for data point 2: normal\n",
      "Prediction for data point 3: underweight\n"
     ]
    }
   ],
   "source": [
    "from sklearn.model_selection import train_test_split\n",
    "from sklearn.neighbors import KNeighborsClassifier\n",
    "from sklearn.preprocessing import StandardScaler\n",
    "\n",
    "# Sample dataset with height, weight, and corresponding BMI class labels\n",
    "data = [\n",
    "    [150, 45, 'underweight'],\n",
    "    [160, 55, 'normal'],\n",
    "    [170, 65, 'normal'],\n",
    "    [180, 75, 'normal'],\n",
    "    [190, 85, 'underweight'],\n",
    "    [160, 70, 'underweight'],\n",
    "    [165, 50, 'normal'],\n",
    "    [155, 40, 'underweight'],\n",
    "    [175, 60, 'normal'],\n",
    "    [185, 80, 'underweight']\n",
    "]\n",
    "\n",
    "# Separating features (height, weight) and labels (BMI class)\n",
    "X = [[row[0], row[1]] for row in data]\n",
    "y = [row[2] for row in data]\n",
    "\n",
    "# Standardize features by removing the mean and scaling to unit variance\n",
    "scaler = StandardScaler()\n",
    "X_scaled = scaler.fit_transform(X)\n",
    "\n",
    "# Splitting data into training and testing sets\n",
    "X_train, X_test, y_train, y_test = train_test_split(X_scaled, y, test_size=0.2, random_state=42)\n",
    "\n",
    "# Create K-NN classifier\n",
    "knn = KNeighborsClassifier(n_neighbors=3)\n",
    "\n",
    "# Train the classifier\n",
    "knn.fit(X_train, y_train)\n",
    "\n",
    "# Predict BMI class for new data\n",
    "new_data = [[170, 55], [180, 70], [160, 45]]\n",
    "new_data_scaled = scaler.transform(new_data)\n",
    "predictions = knn.predict(new_data_scaled)\n",
    "\n",
    "# Print predictions\n",
    "for i, pred in enumerate(predictions):\n",
    "    print(f\"Prediction for data point {i+1}: {pred}\")\n"
   ]
  },
  {
   "cell_type": "code",
   "execution_count": 21,
   "id": "b28db9cb",
   "metadata": {},
   "outputs": [
    {
     "name": "stdout",
     "output_type": "stream",
     "text": [
      "Predicted color: Blue\n"
     ]
    },
    {
     "name": "stderr",
     "output_type": "stream",
     "text": [
      "C:\\Users\\Khuteeja\\anaconda3\\Lib\\site-packages\\sklearn\\base.py:464: UserWarning: X does not have valid feature names, but DecisionTreeClassifier was fitted with feature names\n",
      "  warnings.warn(\n"
     ]
    }
   ],
   "source": [
    "from sklearn.tree import DecisionTreeClassifier\n",
    "from sklearn.preprocessing import LabelEncoder\n",
    "\n",
    "# Training data\n",
    "data = {\n",
    "    'Size': ['Small', 'Large', 'Small'],\n",
    "    'Shape': ['Round', 'Square', 'Round'],\n",
    "    'Color': ['Red', 'Blue', 'Green']\n",
    "}\n",
    "\n",
    "# Convert data to pandas DataFrame\n",
    "import pandas as pd\n",
    "df = pd.DataFrame(data)\n",
    "\n",
    "# Encode categorical features\n",
    "label_encoder = LabelEncoder()\n",
    "df['Size'] = label_encoder.fit_transform(df['Size'])\n",
    "df['Shape'] = label_encoder.fit_transform(df['Shape'])\n",
    "\n",
    "# Features and target variable\n",
    "X = df[['Size', 'Shape']]\n",
    "y = df['Color']\n",
    "\n",
    "# Build decision tree classifier\n",
    "clf = DecisionTreeClassifier()\n",
    "\n",
    "# Train the classifier\n",
    "clf.fit(X, y)\n",
    "\n",
    "# Predict color for a new object\n",
    "new_object = [[1, 1]]  # Large and Square\n",
    "predicted_color = clf.predict(new_object)\n",
    "print(\"Predicted color:\", predicted_color[0])\n"
   ]
  },
  {
   "cell_type": "code",
   "execution_count": 17,
   "id": "51e63713",
   "metadata": {},
   "outputs": [
    {
     "name": "stdout",
     "output_type": "stream",
     "text": [
      "   Study_Hours Pass_Fail\n",
      "0            6      Pass\n",
      "1            3      Fail\n",
      "2           10      Pass\n",
      "3            7      Pass\n",
      "4            4      Fail\n"
     ]
    }
   ],
   "source": [
    "import numpy as np\n",
    "import pandas as pd\n",
    "\n",
    "np.random.seed(42)\n",
    "\n",
    "num_students = 1000\n",
    "\n",
    "study_hours = np.random.randint(0, 11, num_students)\n",
    "\n",
    "pass_threshold = 5\n",
    "\n",
    "pass_fail = np.where(study_hours >= pass_threshold, 'Pass', 'Fail')\n",
    "\n",
    "data = {\n",
    "    'Study_Hours': study_hours,\n",
    "    'Pass_Fail': pass_fail\n",
    "}\n",
    "df = pd.DataFrame(data)\n",
    "\n",
    "print(df.head())"
   ]
  },
  {
   "cell_type": "code",
   "execution_count": 18,
   "id": "bc8abcd4",
   "metadata": {},
   "outputs": [
    {
     "name": "stdout",
     "output_type": "stream",
     "text": [
      "Accuracy: 1.0\n"
     ]
    }
   ],
   "source": [
    "import numpy as np\n",
    "import pandas as pd\n",
    "from sklearn.model_selection import train_test_split\n",
    "from sklearn.neighbors import KNeighborsClassifier\n",
    "from sklearn.metrics import accuracy_score\n",
    "\n",
    "np.random.seed(42)\n",
    "num_students = 1000\n",
    "study_hours = np.random.randint(0, 10, num_students)\n",
    "pass_fail = np.where(study_hours >= 5, 'Pass', 'Fail')\n",
    "\n",
    "data = {\n",
    "    'Study_Hours': study_hours,\n",
    "    'Pass_Fail': pass_fail\n",
    "}\n",
    "df = pd.DataFrame(data)\n",
    "\n",
    "X = df[['Study_Hours']]\n",
    "y = df['Pass_Fail']\n",
    "\n",
    "X_train, X_test, y_train, y_test = train_test_split(X, y, test_size=0.2, random_state=42)\n",
    "\n",
    "knn = KNeighborsClassifier(n_neighbors=5)\n",
    "\n",
    "knn.fit(X_train, y_train)\n",
    "\n",
    "y_pred = knn.predict(X_test)\n",
    "accuracy = accuracy_score(y_test, y_pred)\n",
    "print(\"Accuracy:\", accuracy)\n"
   ]
  },
  {
   "cell_type": "code",
   "execution_count": 27,
   "id": "7fcb21cd",
   "metadata": {},
   "outputs": [],
   "source": []
  },
  {
   "cell_type": "code",
   "execution_count": 30,
   "id": "e554cf30",
   "metadata": {},
   "outputs": [
    {
     "ename": "AttributeError",
     "evalue": "'dict' object has no attribute 'head'",
     "output_type": "error",
     "traceback": [
      "\u001b[1;31m---------------------------------------------------------------------------\u001b[0m",
      "\u001b[1;31mAttributeError\u001b[0m                            Traceback (most recent call last)",
      "Cell \u001b[1;32mIn[30], line 1\u001b[0m\n\u001b[1;32m----> 1\u001b[0m data\u001b[38;5;241m.\u001b[39mhead()\n",
      "\u001b[1;31mAttributeError\u001b[0m: 'dict' object has no attribute 'head'"
     ]
    }
   ],
   "source": []
  },
  {
   "cell_type": "code",
   "execution_count": null,
   "id": "280fbef6",
   "metadata": {},
   "outputs": [],
   "source": []
  }
 ],
 "metadata": {
  "kernelspec": {
   "display_name": "Python 3 (ipykernel)",
   "language": "python",
   "name": "python3"
  },
  "language_info": {
   "codemirror_mode": {
    "name": "ipython",
    "version": 3
   },
   "file_extension": ".py",
   "mimetype": "text/x-python",
   "name": "python",
   "nbconvert_exporter": "python",
   "pygments_lexer": "ipython3",
   "version": "3.11.5"
  }
 },
 "nbformat": 4,
 "nbformat_minor": 5
}
